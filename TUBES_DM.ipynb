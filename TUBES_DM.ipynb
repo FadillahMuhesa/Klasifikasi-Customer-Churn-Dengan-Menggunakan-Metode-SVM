{
  "cells": [
    {
      "cell_type": "markdown",
      "metadata": {
        "id": "view-in-github",
        "colab_type": "text"
      },
      "source": [
        "<a href=\"https://colab.research.google.com/github/FadillahMuhesa/Klasifikasi-Customer-Churn-Dengan-Menggunakan-Metode-SVM/blob/main/TUBES_DM.ipynb\" target=\"_parent\"><img src=\"https://colab.research.google.com/assets/colab-badge.svg\" alt=\"Open In Colab\"/></a>"
      ]
    },
    {
      "cell_type": "markdown",
      "metadata": {
        "id": "9qSIP2aqpY1T"
      },
      "source": [
        "### **Import Library**"
      ]
    },
    {
      "cell_type": "code",
      "execution_count": null,
      "metadata": {
        "id": "z6W1570ipY1V"
      },
      "outputs": [],
      "source": [
        "import numpy as np\n",
        "import pandas as pd\n",
        "from sklearn.model_selection import train_test_split\n",
        "from sklearn.datasets import load_iris\n",
        "from sklearn.tree import DecisionTreeClassifier\n",
        "from sklearn import preprocessing\n",
        "from sklearn import datasets ## Get dataset from sklearn\n",
        "import sklearn.model_selection as ms\n",
        "import sklearn.metrics as sklm\n",
        "import matplotlib.pyplot as plt\n",
        "import numpy.random as nr\n",
        "import seaborn as sns\n",
        "from sklearn.metrics import accuracy_score, f1_score, classification_report, confusion_matrix, recall_score, precision_score\n",
        "from sklearn.preprocessing import StandardScaler\n",
        "from sklearn.model_selection import train_test_split\n",
        "from sklearn.preprocessing import MinMaxScaler, PowerTransformer\n",
        "from sklearn.model_selection import cross_val_score\n",
        "from sklearn.preprocessing import LabelEncoder, OneHotEncoder\n",
        "from sklearn.svm import SVC\n",
        "\n",
        "%matplotlib inline"
      ]
    },
    {
      "cell_type": "markdown",
      "metadata": {
        "id": "9Uvb-CwYpY1W"
      },
      "source": [
        "### **DEFINISIKAN DATA SET**"
      ]
    },
    {
      "cell_type": "code",
      "execution_count": null,
      "metadata": {
        "id": "zFP3klrqpY1W",
        "outputId": "a6d2f1f3-8f71-4094-e282-b7fa1a4a3874"
      },
      "outputs": [
        {
          "data": {
            "text/html": [
              "<div>\n",
              "<style scoped>\n",
              "    .dataframe tbody tr th:only-of-type {\n",
              "        vertical-align: middle;\n",
              "    }\n",
              "\n",
              "    .dataframe tbody tr th {\n",
              "        vertical-align: top;\n",
              "    }\n",
              "\n",
              "    .dataframe thead th {\n",
              "        text-align: right;\n",
              "    }\n",
              "</style>\n",
              "<table border=\"1\" class=\"dataframe\">\n",
              "  <thead>\n",
              "    <tr style=\"text-align: right;\">\n",
              "      <th></th>\n",
              "      <th>customer_id</th>\n",
              "      <th>credit_score</th>\n",
              "      <th>country</th>\n",
              "      <th>gender</th>\n",
              "      <th>age</th>\n",
              "      <th>tenure</th>\n",
              "      <th>balance</th>\n",
              "      <th>products_number</th>\n",
              "      <th>credit_card</th>\n",
              "      <th>active_member</th>\n",
              "      <th>estimated_salary</th>\n",
              "      <th>churn</th>\n",
              "    </tr>\n",
              "  </thead>\n",
              "  <tbody>\n",
              "    <tr>\n",
              "      <th>0</th>\n",
              "      <td>15634602</td>\n",
              "      <td>619</td>\n",
              "      <td>France</td>\n",
              "      <td>Female</td>\n",
              "      <td>42</td>\n",
              "      <td>2</td>\n",
              "      <td>0.00</td>\n",
              "      <td>1</td>\n",
              "      <td>1</td>\n",
              "      <td>1</td>\n",
              "      <td>101348.88</td>\n",
              "      <td>1</td>\n",
              "    </tr>\n",
              "    <tr>\n",
              "      <th>1</th>\n",
              "      <td>15647311</td>\n",
              "      <td>608</td>\n",
              "      <td>Spain</td>\n",
              "      <td>Female</td>\n",
              "      <td>41</td>\n",
              "      <td>1</td>\n",
              "      <td>83807.86</td>\n",
              "      <td>1</td>\n",
              "      <td>0</td>\n",
              "      <td>1</td>\n",
              "      <td>112542.58</td>\n",
              "      <td>0</td>\n",
              "    </tr>\n",
              "    <tr>\n",
              "      <th>2</th>\n",
              "      <td>15619304</td>\n",
              "      <td>502</td>\n",
              "      <td>France</td>\n",
              "      <td>Female</td>\n",
              "      <td>42</td>\n",
              "      <td>8</td>\n",
              "      <td>159660.80</td>\n",
              "      <td>3</td>\n",
              "      <td>1</td>\n",
              "      <td>0</td>\n",
              "      <td>113931.57</td>\n",
              "      <td>1</td>\n",
              "    </tr>\n",
              "    <tr>\n",
              "      <th>3</th>\n",
              "      <td>15701354</td>\n",
              "      <td>699</td>\n",
              "      <td>France</td>\n",
              "      <td>Female</td>\n",
              "      <td>39</td>\n",
              "      <td>1</td>\n",
              "      <td>0.00</td>\n",
              "      <td>2</td>\n",
              "      <td>0</td>\n",
              "      <td>0</td>\n",
              "      <td>93826.63</td>\n",
              "      <td>0</td>\n",
              "    </tr>\n",
              "    <tr>\n",
              "      <th>4</th>\n",
              "      <td>15737888</td>\n",
              "      <td>850</td>\n",
              "      <td>Spain</td>\n",
              "      <td>Female</td>\n",
              "      <td>43</td>\n",
              "      <td>2</td>\n",
              "      <td>125510.82</td>\n",
              "      <td>1</td>\n",
              "      <td>1</td>\n",
              "      <td>1</td>\n",
              "      <td>79084.10</td>\n",
              "      <td>0</td>\n",
              "    </tr>\n",
              "    <tr>\n",
              "      <th>...</th>\n",
              "      <td>...</td>\n",
              "      <td>...</td>\n",
              "      <td>...</td>\n",
              "      <td>...</td>\n",
              "      <td>...</td>\n",
              "      <td>...</td>\n",
              "      <td>...</td>\n",
              "      <td>...</td>\n",
              "      <td>...</td>\n",
              "      <td>...</td>\n",
              "      <td>...</td>\n",
              "      <td>...</td>\n",
              "    </tr>\n",
              "    <tr>\n",
              "      <th>9995</th>\n",
              "      <td>15606229</td>\n",
              "      <td>771</td>\n",
              "      <td>France</td>\n",
              "      <td>Male</td>\n",
              "      <td>39</td>\n",
              "      <td>5</td>\n",
              "      <td>0.00</td>\n",
              "      <td>2</td>\n",
              "      <td>1</td>\n",
              "      <td>0</td>\n",
              "      <td>96270.64</td>\n",
              "      <td>0</td>\n",
              "    </tr>\n",
              "    <tr>\n",
              "      <th>9996</th>\n",
              "      <td>15569892</td>\n",
              "      <td>516</td>\n",
              "      <td>France</td>\n",
              "      <td>Male</td>\n",
              "      <td>35</td>\n",
              "      <td>10</td>\n",
              "      <td>57369.61</td>\n",
              "      <td>1</td>\n",
              "      <td>1</td>\n",
              "      <td>1</td>\n",
              "      <td>101699.77</td>\n",
              "      <td>0</td>\n",
              "    </tr>\n",
              "    <tr>\n",
              "      <th>9997</th>\n",
              "      <td>15584532</td>\n",
              "      <td>709</td>\n",
              "      <td>France</td>\n",
              "      <td>Female</td>\n",
              "      <td>36</td>\n",
              "      <td>7</td>\n",
              "      <td>0.00</td>\n",
              "      <td>1</td>\n",
              "      <td>0</td>\n",
              "      <td>1</td>\n",
              "      <td>42085.58</td>\n",
              "      <td>1</td>\n",
              "    </tr>\n",
              "    <tr>\n",
              "      <th>9998</th>\n",
              "      <td>15682355</td>\n",
              "      <td>772</td>\n",
              "      <td>Germany</td>\n",
              "      <td>Male</td>\n",
              "      <td>42</td>\n",
              "      <td>3</td>\n",
              "      <td>75075.31</td>\n",
              "      <td>2</td>\n",
              "      <td>1</td>\n",
              "      <td>0</td>\n",
              "      <td>92888.52</td>\n",
              "      <td>1</td>\n",
              "    </tr>\n",
              "    <tr>\n",
              "      <th>9999</th>\n",
              "      <td>15628319</td>\n",
              "      <td>792</td>\n",
              "      <td>France</td>\n",
              "      <td>Female</td>\n",
              "      <td>28</td>\n",
              "      <td>4</td>\n",
              "      <td>130142.79</td>\n",
              "      <td>1</td>\n",
              "      <td>1</td>\n",
              "      <td>0</td>\n",
              "      <td>38190.78</td>\n",
              "      <td>0</td>\n",
              "    </tr>\n",
              "  </tbody>\n",
              "</table>\n",
              "<p>10000 rows × 12 columns</p>\n",
              "</div>"
            ],
            "text/plain": [
              "      customer_id  credit_score  country  gender  age  tenure    balance  \\\n",
              "0        15634602           619   France  Female   42       2       0.00   \n",
              "1        15647311           608    Spain  Female   41       1   83807.86   \n",
              "2        15619304           502   France  Female   42       8  159660.80   \n",
              "3        15701354           699   France  Female   39       1       0.00   \n",
              "4        15737888           850    Spain  Female   43       2  125510.82   \n",
              "...           ...           ...      ...     ...  ...     ...        ...   \n",
              "9995     15606229           771   France    Male   39       5       0.00   \n",
              "9996     15569892           516   France    Male   35      10   57369.61   \n",
              "9997     15584532           709   France  Female   36       7       0.00   \n",
              "9998     15682355           772  Germany    Male   42       3   75075.31   \n",
              "9999     15628319           792   France  Female   28       4  130142.79   \n",
              "\n",
              "      products_number  credit_card  active_member  estimated_salary  churn  \n",
              "0                   1            1              1         101348.88      1  \n",
              "1                   1            0              1         112542.58      0  \n",
              "2                   3            1              0         113931.57      1  \n",
              "3                   2            0              0          93826.63      0  \n",
              "4                   1            1              1          79084.10      0  \n",
              "...               ...          ...            ...               ...    ...  \n",
              "9995                2            1              0          96270.64      0  \n",
              "9996                1            1              1         101699.77      0  \n",
              "9997                1            0              1          42085.58      1  \n",
              "9998                2            1              0          92888.52      1  \n",
              "9999                1            1              0          38190.78      0  \n",
              "\n",
              "[10000 rows x 12 columns]"
            ]
          },
          "execution_count": 59,
          "metadata": {},
          "output_type": "execute_result"
        }
      ],
      "source": [
        "data=pd.read_csv('Bank Customer Churn Prediction.csv')\n",
        "data"
      ]
    },
    {
      "cell_type": "markdown",
      "metadata": {
        "id": "e_diB4XJpY1X"
      },
      "source": [
        "## **Data Preprocessing**"
      ]
    },
    {
      "cell_type": "code",
      "execution_count": null,
      "metadata": {
        "id": "ZxtvmdizpY1X"
      },
      "outputs": [],
      "source": [
        "df=data.copy()\n",
        "## customer-id is not useful so i drop it\n",
        "df=df.drop('customer_id',axis=1)"
      ]
    },
    {
      "cell_type": "code",
      "execution_count": null,
      "metadata": {
        "id": "DGfo6Yr5pY1X",
        "outputId": "d29affc2-b7fd-4ac9-f2b3-bece94148e00"
      },
      "outputs": [
        {
          "data": {
            "text/plain": [
              "credit_score        0\n",
              "country             0\n",
              "gender              0\n",
              "age                 0\n",
              "tenure              0\n",
              "balance             0\n",
              "products_number     0\n",
              "credit_card         0\n",
              "active_member       0\n",
              "estimated_salary    0\n",
              "churn               0\n",
              "dtype: int64"
            ]
          },
          "execution_count": 61,
          "metadata": {},
          "output_type": "execute_result"
        }
      ],
      "source": [
        "df.isnull().sum()"
      ]
    },
    {
      "cell_type": "markdown",
      "metadata": {
        "id": "lkkTHKuwpY1X"
      },
      "source": [
        "### **Exploratory Data Analysis (EDA)**\n"
      ]
    },
    {
      "cell_type": "code",
      "execution_count": null,
      "metadata": {
        "id": "W5UNtIORpY1X",
        "outputId": "a0536b21-2284-4552-dc98-d53fc2e87508"
      },
      "outputs": [
        {
          "name": "stdout",
          "output_type": "stream",
          "text": [
            "<class 'pandas.core.frame.DataFrame'>\n",
            "RangeIndex: 10000 entries, 0 to 9999\n",
            "Data columns (total 11 columns):\n",
            " #   Column            Non-Null Count  Dtype  \n",
            "---  ------            --------------  -----  \n",
            " 0   credit_score      10000 non-null  int64  \n",
            " 1   country           10000 non-null  object \n",
            " 2   gender            10000 non-null  object \n",
            " 3   age               10000 non-null  int64  \n",
            " 4   tenure            10000 non-null  int64  \n",
            " 5   balance           10000 non-null  float64\n",
            " 6   products_number   10000 non-null  int64  \n",
            " 7   credit_card       10000 non-null  int64  \n",
            " 8   active_member     10000 non-null  int64  \n",
            " 9   estimated_salary  10000 non-null  float64\n",
            " 10  churn             10000 non-null  int64  \n",
            "dtypes: float64(2), int64(7), object(2)\n",
            "memory usage: 859.5+ KB\n"
          ]
        }
      ],
      "source": [
        "df.info()"
      ]
    },
    {
      "cell_type": "code",
      "execution_count": null,
      "metadata": {
        "id": "Upz6tTzipY1X",
        "outputId": "75159bc1-d467-4898-c553-1266111f0968"
      },
      "outputs": [
        {
          "data": {
            "text/plain": [
              "Index(['credit_score', 'country', 'gender', 'age', 'tenure', 'balance',\n",
              "       'products_number', 'credit_card', 'active_member', 'estimated_salary',\n",
              "       'churn'],\n",
              "      dtype='object')"
            ]
          },
          "execution_count": 63,
          "metadata": {},
          "output_type": "execute_result"
        }
      ],
      "source": [
        "# Definisikan Kolom\n",
        "df.columns\n"
      ]
    },
    {
      "cell_type": "code",
      "execution_count": null,
      "metadata": {
        "id": "xuDG8GJQpY1Y",
        "outputId": "e3a927ed-e224-400d-ce75-41b5bc0cb377"
      },
      "outputs": [
        {
          "data": {
            "text/plain": [
              "credit_score          int64\n",
              "country              object\n",
              "gender               object\n",
              "age                   int64\n",
              "tenure                int64\n",
              "balance             float64\n",
              "products_number       int64\n",
              "credit_card           int64\n",
              "active_member         int64\n",
              "estimated_salary    float64\n",
              "churn                 int64\n",
              "dtype: object"
            ]
          },
          "execution_count": 64,
          "metadata": {},
          "output_type": "execute_result"
        }
      ],
      "source": [
        "# Definisikan tipe data\n",
        "df.dtypes"
      ]
    },
    {
      "cell_type": "code",
      "execution_count": null,
      "metadata": {
        "id": "pQ1ZQRkvpY1Y",
        "outputId": "1c459825-3172-42c7-9816-f8214f2dc312"
      },
      "outputs": [
        {
          "data": {
            "text/html": [
              "<div>\n",
              "<style scoped>\n",
              "    .dataframe tbody tr th:only-of-type {\n",
              "        vertical-align: middle;\n",
              "    }\n",
              "\n",
              "    .dataframe tbody tr th {\n",
              "        vertical-align: top;\n",
              "    }\n",
              "\n",
              "    .dataframe thead th {\n",
              "        text-align: right;\n",
              "    }\n",
              "</style>\n",
              "<table border=\"1\" class=\"dataframe\">\n",
              "  <thead>\n",
              "    <tr style=\"text-align: right;\">\n",
              "      <th></th>\n",
              "      <th>credit_score</th>\n",
              "      <th>country</th>\n",
              "      <th>gender</th>\n",
              "      <th>age</th>\n",
              "      <th>tenure</th>\n",
              "      <th>balance</th>\n",
              "      <th>products_number</th>\n",
              "      <th>credit_card</th>\n",
              "      <th>active_member</th>\n",
              "      <th>estimated_salary</th>\n",
              "      <th>churn</th>\n",
              "    </tr>\n",
              "  </thead>\n",
              "  <tbody>\n",
              "    <tr>\n",
              "      <th>0</th>\n",
              "      <td>619</td>\n",
              "      <td>France</td>\n",
              "      <td>Female</td>\n",
              "      <td>42</td>\n",
              "      <td>2</td>\n",
              "      <td>0.00</td>\n",
              "      <td>1</td>\n",
              "      <td>1</td>\n",
              "      <td>1</td>\n",
              "      <td>101348.88</td>\n",
              "      <td>1</td>\n",
              "    </tr>\n",
              "    <tr>\n",
              "      <th>1</th>\n",
              "      <td>608</td>\n",
              "      <td>Spain</td>\n",
              "      <td>Female</td>\n",
              "      <td>41</td>\n",
              "      <td>1</td>\n",
              "      <td>83807.86</td>\n",
              "      <td>1</td>\n",
              "      <td>0</td>\n",
              "      <td>1</td>\n",
              "      <td>112542.58</td>\n",
              "      <td>0</td>\n",
              "    </tr>\n",
              "    <tr>\n",
              "      <th>2</th>\n",
              "      <td>502</td>\n",
              "      <td>France</td>\n",
              "      <td>Female</td>\n",
              "      <td>42</td>\n",
              "      <td>8</td>\n",
              "      <td>159660.80</td>\n",
              "      <td>3</td>\n",
              "      <td>1</td>\n",
              "      <td>0</td>\n",
              "      <td>113931.57</td>\n",
              "      <td>1</td>\n",
              "    </tr>\n",
              "    <tr>\n",
              "      <th>3</th>\n",
              "      <td>699</td>\n",
              "      <td>France</td>\n",
              "      <td>Female</td>\n",
              "      <td>39</td>\n",
              "      <td>1</td>\n",
              "      <td>0.00</td>\n",
              "      <td>2</td>\n",
              "      <td>0</td>\n",
              "      <td>0</td>\n",
              "      <td>93826.63</td>\n",
              "      <td>0</td>\n",
              "    </tr>\n",
              "    <tr>\n",
              "      <th>4</th>\n",
              "      <td>850</td>\n",
              "      <td>Spain</td>\n",
              "      <td>Female</td>\n",
              "      <td>43</td>\n",
              "      <td>2</td>\n",
              "      <td>125510.82</td>\n",
              "      <td>1</td>\n",
              "      <td>1</td>\n",
              "      <td>1</td>\n",
              "      <td>79084.10</td>\n",
              "      <td>0</td>\n",
              "    </tr>\n",
              "  </tbody>\n",
              "</table>\n",
              "</div>"
            ],
            "text/plain": [
              "   credit_score country  gender  age  tenure    balance  products_number  \\\n",
              "0           619  France  Female   42       2       0.00                1   \n",
              "1           608   Spain  Female   41       1   83807.86                1   \n",
              "2           502  France  Female   42       8  159660.80                3   \n",
              "3           699  France  Female   39       1       0.00                2   \n",
              "4           850   Spain  Female   43       2  125510.82                1   \n",
              "\n",
              "   credit_card  active_member  estimated_salary  churn  \n",
              "0            1              1         101348.88      1  \n",
              "1            0              1         112542.58      0  \n",
              "2            1              0         113931.57      1  \n",
              "3            0              0          93826.63      0  \n",
              "4            1              1          79084.10      0  "
            ]
          },
          "execution_count": 65,
          "metadata": {},
          "output_type": "execute_result"
        }
      ],
      "source": [
        "df.head()"
      ]
    },
    {
      "cell_type": "code",
      "execution_count": null,
      "metadata": {
        "id": "YGemJ0XRpY1Y",
        "outputId": "e68d3bc8-ad4a-45d4-a72d-22c35870d5ca"
      },
      "outputs": [
        {
          "data": {
            "text/plain": [
              "France     5014\n",
              "Germany    2509\n",
              "Spain      2477\n",
              "Name: country, dtype: int64"
            ]
          },
          "execution_count": 66,
          "metadata": {},
          "output_type": "execute_result"
        }
      ],
      "source": [
        "df['country'].value_counts()"
      ]
    },
    {
      "cell_type": "code",
      "execution_count": null,
      "metadata": {
        "id": "M0j7NTehpY1Y",
        "outputId": "555c4be9-5857-4fa6-aef3-72c564a6c489"
      },
      "outputs": [
        {
          "name": "stderr",
          "output_type": "stream",
          "text": [
            "c:\\ProgramData\\Anaconda3\\lib\\site-packages\\seaborn\\_decorators.py:36: FutureWarning: Pass the following variable as a keyword arg: x. From version 0.12, the only valid positional argument will be `data`, and passing other arguments without an explicit keyword will result in an error or misinterpretation.\n",
            "  warnings.warn(\n"
          ]
        },
        {
          "data": {
            "text/plain": [
              "<AxesSubplot:xlabel='churn', ylabel='count'>"
            ]
          },
          "execution_count": 67,
          "metadata": {},
          "output_type": "execute_result"
        },
        {
          "data": {
            "image/png": "[encoded data removed]",
            "text/plain": [
              "<Figure size 432x288 with 1 Axes>"
            ]
          },
          "metadata": {
            "needs_background": "light"
          },
          "output_type": "display_data"
        }
      ],
      "source": [
        "\n",
        "sns.countplot(df['churn'],label=\"Count\")"
      ]
    },
    {
      "cell_type": "code",
      "execution_count": null,
      "metadata": {
        "id": "Na9e5WsGpY1Y",
        "outputId": "92823d16-9cbb-4d04-c7ad-797d1ef72a5b"
      },
      "outputs": [
        {
          "data": {
            "text/plain": [
              "0    7963\n",
              "1    2037\n",
              "Name: churn, dtype: int64"
            ]
          },
          "execution_count": 68,
          "metadata": {},
          "output_type": "execute_result"
        }
      ],
      "source": [
        "df[\"churn\"].value_counts()"
      ]
    },
    {
      "cell_type": "code",
      "execution_count": null,
      "metadata": {
        "id": "DvqWT04ypY1Y",
        "outputId": "b12e37a9-f860-47cd-c5df-28c74afb5d71"
      },
      "outputs": [
        {
          "data": {
            "text/plain": [
              "1    5151\n",
              "0    4849\n",
              "Name: active_member, dtype: int64"
            ]
          },
          "execution_count": 69,
          "metadata": {},
          "output_type": "execute_result"
        }
      ],
      "source": [
        "df[\"active_member\"].value_counts()"
      ]
    },
    {
      "cell_type": "code",
      "execution_count": null,
      "metadata": {
        "id": "sy7cljaipY1Z",
        "outputId": "d96c0d2a-1e7c-44ad-c197-1acd35fcf283"
      },
      "outputs": [
        {
          "data": {
            "text/plain": [
              "1    7055\n",
              "0    2945\n",
              "Name: credit_card, dtype: int64"
            ]
          },
          "execution_count": 70,
          "metadata": {},
          "output_type": "execute_result"
        }
      ],
      "source": [
        "df[\"credit_card\"].value_counts()"
      ]
    },
    {
      "cell_type": "code",
      "execution_count": null,
      "metadata": {
        "id": "szlcJjJ_pY1Z",
        "outputId": "dfcbe2ff-2d24-44e1-ee5b-56595a430c1e"
      },
      "outputs": [
        {
          "data": {
            "text/html": [
              "<div>\n",
              "<style scoped>\n",
              "    .dataframe tbody tr th:only-of-type {\n",
              "        vertical-align: middle;\n",
              "    }\n",
              "\n",
              "    .dataframe tbody tr th {\n",
              "        vertical-align: top;\n",
              "    }\n",
              "\n",
              "    .dataframe thead th {\n",
              "        text-align: right;\n",
              "    }\n",
              "</style>\n",
              "<table border=\"1\" class=\"dataframe\">\n",
              "  <thead>\n",
              "    <tr style=\"text-align: right;\">\n",
              "      <th></th>\n",
              "      <th>count</th>\n",
              "      <th>mean</th>\n",
              "      <th>std</th>\n",
              "      <th>min</th>\n",
              "      <th>25%</th>\n",
              "      <th>50%</th>\n",
              "      <th>75%</th>\n",
              "      <th>max</th>\n",
              "    </tr>\n",
              "  </thead>\n",
              "  <tbody>\n",
              "    <tr>\n",
              "      <th>credit_score</th>\n",
              "      <td>10000.0</td>\n",
              "      <td>650.528800</td>\n",
              "      <td>96.653299</td>\n",
              "      <td>350.00</td>\n",
              "      <td>584.00</td>\n",
              "      <td>652.000</td>\n",
              "      <td>718.0000</td>\n",
              "      <td>850.00</td>\n",
              "    </tr>\n",
              "    <tr>\n",
              "      <th>age</th>\n",
              "      <td>10000.0</td>\n",
              "      <td>38.921800</td>\n",
              "      <td>10.487806</td>\n",
              "      <td>18.00</td>\n",
              "      <td>32.00</td>\n",
              "      <td>37.000</td>\n",
              "      <td>44.0000</td>\n",
              "      <td>92.00</td>\n",
              "    </tr>\n",
              "    <tr>\n",
              "      <th>tenure</th>\n",
              "      <td>10000.0</td>\n",
              "      <td>5.012800</td>\n",
              "      <td>2.892174</td>\n",
              "      <td>0.00</td>\n",
              "      <td>3.00</td>\n",
              "      <td>5.000</td>\n",
              "      <td>7.0000</td>\n",
              "      <td>10.00</td>\n",
              "    </tr>\n",
              "    <tr>\n",
              "      <th>balance</th>\n",
              "      <td>10000.0</td>\n",
              "      <td>76485.889288</td>\n",
              "      <td>62397.405202</td>\n",
              "      <td>0.00</td>\n",
              "      <td>0.00</td>\n",
              "      <td>97198.540</td>\n",
              "      <td>127644.2400</td>\n",
              "      <td>250898.09</td>\n",
              "    </tr>\n",
              "    <tr>\n",
              "      <th>products_number</th>\n",
              "      <td>10000.0</td>\n",
              "      <td>1.530200</td>\n",
              "      <td>0.581654</td>\n",
              "      <td>1.00</td>\n",
              "      <td>1.00</td>\n",
              "      <td>1.000</td>\n",
              "      <td>2.0000</td>\n",
              "      <td>4.00</td>\n",
              "    </tr>\n",
              "    <tr>\n",
              "      <th>credit_card</th>\n",
              "      <td>10000.0</td>\n",
              "      <td>0.705500</td>\n",
              "      <td>0.455840</td>\n",
              "      <td>0.00</td>\n",
              "      <td>0.00</td>\n",
              "      <td>1.000</td>\n",
              "      <td>1.0000</td>\n",
              "      <td>1.00</td>\n",
              "    </tr>\n",
              "    <tr>\n",
              "      <th>active_member</th>\n",
              "      <td>10000.0</td>\n",
              "      <td>0.515100</td>\n",
              "      <td>0.499797</td>\n",
              "      <td>0.00</td>\n",
              "      <td>0.00</td>\n",
              "      <td>1.000</td>\n",
              "      <td>1.0000</td>\n",
              "      <td>1.00</td>\n",
              "    </tr>\n",
              "    <tr>\n",
              "      <th>estimated_salary</th>\n",
              "      <td>10000.0</td>\n",
              "      <td>100090.239881</td>\n",
              "      <td>57510.492818</td>\n",
              "      <td>11.58</td>\n",
              "      <td>51002.11</td>\n",
              "      <td>100193.915</td>\n",
              "      <td>149388.2475</td>\n",
              "      <td>199992.48</td>\n",
              "    </tr>\n",
              "    <tr>\n",
              "      <th>churn</th>\n",
              "      <td>10000.0</td>\n",
              "      <td>0.203700</td>\n",
              "      <td>0.402769</td>\n",
              "      <td>0.00</td>\n",
              "      <td>0.00</td>\n",
              "      <td>0.000</td>\n",
              "      <td>0.0000</td>\n",
              "      <td>1.00</td>\n",
              "    </tr>\n",
              "  </tbody>\n",
              "</table>\n",
              "</div>"
            ],
            "text/plain": [
              "                    count           mean           std     min       25%  \\\n",
              "credit_score      10000.0     650.528800     96.653299  350.00    584.00   \n",
              "age               10000.0      38.921800     10.487806   18.00     32.00   \n",
              "tenure            10000.0       5.012800      2.892174    0.00      3.00   \n",
              "balance           10000.0   76485.889288  62397.405202    0.00      0.00   \n",
              "products_number   10000.0       1.530200      0.581654    1.00      1.00   \n",
              "credit_card       10000.0       0.705500      0.455840    0.00      0.00   \n",
              "active_member     10000.0       0.515100      0.499797    0.00      0.00   \n",
              "estimated_salary  10000.0  100090.239881  57510.492818   11.58  51002.11   \n",
              "churn             10000.0       0.203700      0.402769    0.00      0.00   \n",
              "\n",
              "                         50%          75%        max  \n",
              "credit_score         652.000     718.0000     850.00  \n",
              "age                   37.000      44.0000      92.00  \n",
              "tenure                 5.000       7.0000      10.00  \n",
              "balance            97198.540  127644.2400  250898.09  \n",
              "products_number        1.000       2.0000       4.00  \n",
              "credit_card            1.000       1.0000       1.00  \n",
              "active_member          1.000       1.0000       1.00  \n",
              "estimated_salary  100193.915  149388.2475  199992.48  \n",
              "churn                  0.000       0.0000       1.00  "
            ]
          },
          "execution_count": 71,
          "metadata": {},
          "output_type": "execute_result"
        }
      ],
      "source": [
        "df.describe().T\n"
      ]
    },
    {
      "cell_type": "code",
      "execution_count": null,
      "metadata": {
        "id": "c0QF-mQ5pY1Z",
        "outputId": "fa1c2b7c-95ec-4cc3-e35c-4299e6e02b64"
      },
      "outputs": [
        {
          "data": {
            "text/plain": [
              "array([[<AxesSubplot:title={'center':'credit_score'}>,\n",
              "        <AxesSubplot:title={'center':'age'}>,\n",
              "        <AxesSubplot:title={'center':'tenure'}>],\n",
              "       [<AxesSubplot:title={'center':'balance'}>,\n",
              "        <AxesSubplot:title={'center':'products_number'}>,\n",
              "        <AxesSubplot:title={'center':'credit_card'}>],\n",
              "       [<AxesSubplot:title={'center':'active_member'}>,\n",
              "        <AxesSubplot:title={'center':'estimated_salary'}>,\n",
              "        <AxesSubplot:title={'center':'churn'}>]], dtype=object)"
            ]
          },
          "execution_count": 72,
          "metadata": {},
          "output_type": "execute_result"
        },
        {
          "data": {
            "image/png": "[encoded data removed]",
            "text/plain": [
              "<Figure size 720x720 with 9 Axes>"
            ]
          },
          "metadata": {
            "needs_background": "light"
          },
          "output_type": "display_data"
        }
      ],
      "source": [
        "#buat plot hist untuk masing masing kolom\n",
        "df.hist(figsize=(10,10))"
      ]
    },
    {
      "cell_type": "code",
      "execution_count": null,
      "metadata": {
        "id": "lb2KubXBpY1Z",
        "outputId": "afce9b5a-d95b-48f1-9d18-ad18daa667df"
      },
      "outputs": [
        {
          "data": {
            "text/plain": [
              "<AxesSubplot:>"
            ]
          },
          "execution_count": 73,
          "metadata": {},
          "output_type": "execute_result"
        },
        {
          "data": {
            "image/png": "[encoded data removed]",
            "text/plain": [
              "<Figure size 720x504 with 2 Axes>"
            ]
          },
          "metadata": {
            "needs_background": "light"
          },
          "output_type": "display_data"
        }
      ],
      "source": [
        "df.corr()\n",
        "corr = df.corr()\n",
        "fig, ax = plt.subplots(figsize=(10,7))\n",
        "sns.heatmap(corr, annot=True, ax=ax)"
      ]
    },
    {
      "cell_type": "markdown",
      "metadata": {
        "id": "3WunVt_xpY1Z"
      },
      "source": [
        "### **Data Processing**"
      ]
    },
    {
      "cell_type": "code",
      "execution_count": null,
      "metadata": {
        "id": "MS16UwlnpY1Z"
      },
      "outputs": [],
      "source": [
        "# from sklearn.model_selection import train_test_split\n",
        "# training_data, testing_data = train_test_split(df, test_size=0.3, random_state=25)"
      ]
    },
    {
      "cell_type": "code",
      "execution_count": null,
      "metadata": {
        "id": "9PqflIJppY1Z"
      },
      "outputs": [],
      "source": [
        "le=LabelEncoder()\n",
        "df['country'] = LabelEncoder().fit_transform(df['country'])\n",
        "df['gender'] = LabelEncoder().fit_transform(df['gender'])"
      ]
    },
    {
      "cell_type": "code",
      "execution_count": null,
      "metadata": {
        "id": "3JU2R-u_pY1Z",
        "outputId": "4d17e55b-5202-4462-aa8a-8def85056473"
      },
      "outputs": [
        {
          "data": {
            "text/plain": [
              "0    5014\n",
              "1    2509\n",
              "2    2477\n",
              "Name: country, dtype: int64"
            ]
          },
          "execution_count": 76,
          "metadata": {},
          "output_type": "execute_result"
        }
      ],
      "source": [
        "df['country']. value_counts()"
      ]
    },
    {
      "cell_type": "code",
      "execution_count": null,
      "metadata": {
        "id": "gAfy63lSpY1Z",
        "outputId": "1a7eb1f8-e509-4700-e4f8-41efe805ef62"
      },
      "outputs": [
        {
          "data": {
            "text/html": [
              "<div>\n",
              "<style scoped>\n",
              "    .dataframe tbody tr th:only-of-type {\n",
              "        vertical-align: middle;\n",
              "    }\n",
              "\n",
              "    .dataframe tbody tr th {\n",
              "        vertical-align: top;\n",
              "    }\n",
              "\n",
              "    .dataframe thead th {\n",
              "        text-align: right;\n",
              "    }\n",
              "</style>\n",
              "<table border=\"1\" class=\"dataframe\">\n",
              "  <thead>\n",
              "    <tr style=\"text-align: right;\">\n",
              "      <th></th>\n",
              "      <th>credit_score</th>\n",
              "      <th>country</th>\n",
              "      <th>gender</th>\n",
              "      <th>age</th>\n",
              "      <th>tenure</th>\n",
              "      <th>balance</th>\n",
              "      <th>products_number</th>\n",
              "      <th>credit_card</th>\n",
              "      <th>active_member</th>\n",
              "      <th>estimated_salary</th>\n",
              "    </tr>\n",
              "  </thead>\n",
              "  <tbody>\n",
              "    <tr>\n",
              "      <th>0</th>\n",
              "      <td>0.538</td>\n",
              "      <td>0.0</td>\n",
              "      <td>0.0</td>\n",
              "      <td>0.324324</td>\n",
              "      <td>0.2</td>\n",
              "      <td>0.000000</td>\n",
              "      <td>0.000000</td>\n",
              "      <td>1.0</td>\n",
              "      <td>1.0</td>\n",
              "      <td>0.506735</td>\n",
              "    </tr>\n",
              "    <tr>\n",
              "      <th>1</th>\n",
              "      <td>0.516</td>\n",
              "      <td>1.0</td>\n",
              "      <td>0.0</td>\n",
              "      <td>0.310811</td>\n",
              "      <td>0.1</td>\n",
              "      <td>0.334031</td>\n",
              "      <td>0.000000</td>\n",
              "      <td>0.0</td>\n",
              "      <td>1.0</td>\n",
              "      <td>0.562709</td>\n",
              "    </tr>\n",
              "    <tr>\n",
              "      <th>2</th>\n",
              "      <td>0.304</td>\n",
              "      <td>0.0</td>\n",
              "      <td>0.0</td>\n",
              "      <td>0.324324</td>\n",
              "      <td>0.8</td>\n",
              "      <td>0.636357</td>\n",
              "      <td>0.666667</td>\n",
              "      <td>1.0</td>\n",
              "      <td>0.0</td>\n",
              "      <td>0.569654</td>\n",
              "    </tr>\n",
              "    <tr>\n",
              "      <th>3</th>\n",
              "      <td>0.698</td>\n",
              "      <td>0.0</td>\n",
              "      <td>0.0</td>\n",
              "      <td>0.283784</td>\n",
              "      <td>0.1</td>\n",
              "      <td>0.000000</td>\n",
              "      <td>0.333333</td>\n",
              "      <td>0.0</td>\n",
              "      <td>0.0</td>\n",
              "      <td>0.469120</td>\n",
              "    </tr>\n",
              "    <tr>\n",
              "      <th>4</th>\n",
              "      <td>1.000</td>\n",
              "      <td>1.0</td>\n",
              "      <td>0.0</td>\n",
              "      <td>0.337838</td>\n",
              "      <td>0.2</td>\n",
              "      <td>0.500246</td>\n",
              "      <td>0.000000</td>\n",
              "      <td>1.0</td>\n",
              "      <td>1.0</td>\n",
              "      <td>0.395400</td>\n",
              "    </tr>\n",
              "  </tbody>\n",
              "</table>\n",
              "</div>"
            ],
            "text/plain": [
              "   credit_score  country  gender       age  tenure   balance  products_number  \\\n",
              "0         0.538      0.0     0.0  0.324324     0.2  0.000000         0.000000   \n",
              "1         0.516      1.0     0.0  0.310811     0.1  0.334031         0.000000   \n",
              "2         0.304      0.0     0.0  0.324324     0.8  0.636357         0.666667   \n",
              "3         0.698      0.0     0.0  0.283784     0.1  0.000000         0.333333   \n",
              "4         1.000      1.0     0.0  0.337838     0.2  0.500246         0.000000   \n",
              "\n",
              "   credit_card  active_member  estimated_salary  \n",
              "0          1.0            1.0          0.506735  \n",
              "1          0.0            1.0          0.562709  \n",
              "2          1.0            0.0          0.569654  \n",
              "3          0.0            0.0          0.469120  \n",
              "4          1.0            1.0          0.395400  "
            ]
          },
          "execution_count": 77,
          "metadata": {},
          "output_type": "execute_result"
        }
      ],
      "source": [
        "\n",
        "scaler=MinMaxScaler()\n",
        "# scaler=PowerTransformer()\n",
        "# scaler=StandardScaler()\n",
        "scaler.fit(df.drop('churn',axis=1))\n",
        "scaled_features=scaler.transform(df.drop('churn',axis=1))\n",
        "df_feat=pd.DataFrame(scaled_features,columns=df.columns[:-1])\n",
        "\n",
        "df_feat.head()\n",
        "\n"
      ]
    },
    {
      "cell_type": "code",
      "execution_count": null,
      "metadata": {
        "id": "9iCrCyWLpY1a",
        "outputId": "5fa9d99c-c6f3-489e-eca4-06653ec000e7"
      },
      "outputs": [
        {
          "data": {
            "image/png": "[encoded data removed]",
            "text/plain": [
              "<Figure size 720x720 with 10 Axes>"
            ]
          },
          "metadata": {
            "needs_background": "light"
          },
          "output_type": "display_data"
        }
      ],
      "source": [
        "fig = plt.figure(figsize=(10, 10)) # sets the size of the 4 plot with width as 10 and height as 10\n",
        "for i,columns in enumerate(df_feat.columns, 1):\n",
        "    ax = plt.subplot(6,5,i) # creates 3 subplots in one single row\n",
        "    sns.boxplot(data = df_feat, x=df_feat[columns]) # creates box plots for each feature in df_cont dataset\n",
        "    ax.set_xlabel(None) # removes the labels on x-axis\n",
        "    ax.set_title(f'Distribution of {columns}') # adds a title to each subplot\n",
        "    plt.tight_layout(w_pad=3) # adds padding between the subplots\n",
        "plt.show()"
      ]
    },
    {
      "cell_type": "code",
      "execution_count": null,
      "metadata": {
        "id": "AKMmzrqVpY1a"
      },
      "outputs": [],
      "source": [
        "# def label_transform(x):\n",
        "#     le = LabelEncoder()\n",
        "#     Encoded_le = le.fit_transform(x)\n",
        "#     return Encoded_le\n",
        "\n",
        "# catagoral_label=['job','marital','education','default','housing','loan','contact','month','day_of_week','poutcome','y']\n",
        "\n",
        "# for x in catagoral_label:\n",
        "#     df[x] = label_transform(df[x])\n",
        "\n",
        "# def label_transform_minmax(x):\n",
        "#     le = MinMaxScaler()\n",
        "#     Encoded_le = le.fit_transform(x)\n",
        "#     return Encoded_le\n",
        "\n",
        "# catagoral_label=['Age','Delivery number','Delivery time','Blood of Pressure','Heart Problem']\n",
        "\n",
        "# for i in catagoral_label:\n",
        "#     df[i] = label_transform_minmax(df[i])\n",
        "\n",
        "# df.head()\n"
      ]
    },
    {
      "cell_type": "code",
      "execution_count": null,
      "metadata": {
        "id": "1Bn3ygrJpY1a",
        "outputId": "ef42f371-b1cd-47c4-cb2a-28d7ce75be9d"
      },
      "outputs": [
        {
          "name": "stdout",
          "output_type": "stream",
          "text": [
            "(10000, 10)\n",
            "(10000,)\n"
          ]
        }
      ],
      "source": [
        "# #ambil df kurang kolom churn\n",
        "# X=df.drop('churn',axis=1)\n",
        "X = df_feat\n",
        "y = df['churn']\n",
        "# X_train, X_test, y_train, y_test = train_test_split(X, y, test_size=0.25, random_state=50)\n",
        "#print shape\n",
        "print(X.shape)\n",
        "print(y.shape)\n"
      ]
    },
    {
      "cell_type": "code",
      "execution_count": null,
      "metadata": {
        "id": "whJed2K8pY1a"
      },
      "outputs": [],
      "source": [
        "from imblearn.combine import SMOTETomek\n",
        "smk = SMOTETomek(random_state=123)\n",
        "X , y = smk.fit_resample(X,y)"
      ]
    },
    {
      "cell_type": "code",
      "execution_count": null,
      "metadata": {
        "id": "RczCzarIpY1a",
        "outputId": "b6632a6c-55a7-4a1c-c383-58e6b84d760c"
      },
      "outputs": [
        {
          "name": "stderr",
          "output_type": "stream",
          "text": [
            "c:\\ProgramData\\Anaconda3\\lib\\site-packages\\seaborn\\_decorators.py:36: FutureWarning: Pass the following variable as a keyword arg: x. From version 0.12, the only valid positional argument will be `data`, and passing other arguments without an explicit keyword will result in an error or misinterpretation.\n",
            "  warnings.warn(\n"
          ]
        },
        {
          "data": {
            "text/plain": [
              "<AxesSubplot:xlabel='churn', ylabel='count'>"
            ]
          },
          "execution_count": 82,
          "metadata": {},
          "output_type": "execute_result"
        },
        {
          "data": {
            "image/png": "[encoded data removed]",
            "text/plain": [
              "<Figure size 432x288 with 1 Axes>"
            ]
          },
          "metadata": {
            "needs_background": "light"
          },
          "output_type": "display_data"
        }
      ],
      "source": [
        "#plot data y\n",
        "sns.countplot(y,label=\"Count\")"
      ]
    },
    {
      "cell_type": "code",
      "execution_count": null,
      "metadata": {
        "id": "ZqRfgUGQpY1a"
      },
      "outputs": [],
      "source": [
        "X_train, X_test, y_train, y_test = train_test_split(X, y, test_size=0.25, random_state=50)"
      ]
    },
    {
      "cell_type": "code",
      "execution_count": null,
      "metadata": {
        "id": "56dy0_0ApY1a"
      },
      "outputs": [],
      "source": [
        "# from imblearn.under_sampling import RandomUnderSampler\n",
        "# rus = RandomUnderSampler(replacement=False)\n",
        "# X_train, y_train = rus.fit_resample(X, y)\n",
        "# print(X_train.shape)\n",
        "# print(np.bincount(y_train))\n"
      ]
    },
    {
      "cell_type": "markdown",
      "metadata": {
        "id": "dQvRQjKmpY1b"
      },
      "source": [
        "### **Data Modeling**"
      ]
    },
    {
      "cell_type": "markdown",
      "metadata": {
        "id": "rOPEt4KXpY1b"
      },
      "source": [
        "**SVM**"
      ]
    },
    {
      "cell_type": "code",
      "execution_count": null,
      "metadata": {
        "id": "p01ybDRxpY1b"
      },
      "outputs": [],
      "source": [
        "svc = SVC(kernel='linear', C=1, probability=True, gamma=1)\n",
        "model=svc.fit(X_train, y_train)\n",
        "y_pred_dtc=model.predict(X_test)"
      ]
    },
    {
      "cell_type": "code",
      "execution_count": null,
      "metadata": {
        "id": "AbK_1enPpY1b",
        "outputId": "df28805e-f91f-40f4-dbd7-94ad4835594a"
      },
      "outputs": [
        {
          "name": "stdout",
          "output_type": "stream",
          "text": [
            "Confusion Matrix: \n",
            " [[1441  573]\n",
            " [ 526 1379]]\n",
            "Accuracy:  0.7195713192140852\n",
            "F1 Score:  0.7150635208711434\n",
            "Sensitivity:  0.7238845144356956\n",
            "              precision    recall  f1-score   support\n",
            "\n",
            "           0       0.73      0.72      0.72      2014\n",
            "           1       0.71      0.72      0.72      1905\n",
            "\n",
            "    accuracy                           0.72      3919\n",
            "   macro avg       0.72      0.72      0.72      3919\n",
            "weighted avg       0.72      0.72      0.72      3919\n",
            "\n"
          ]
        },
        {
          "data": {
            "image/png": "[encoded data removed]",
            "text/plain": [
              "<Figure size 576x360 with 2 Axes>"
            ]
          },
          "metadata": {
            "needs_background": "light"
          },
          "output_type": "display_data"
        }
      ],
      "source": [
        "cm = confusion_matrix(y_test,y_pred_dtc)\n",
        "print(\"Confusion Matrix: \\n\", cm)\n",
        "simpanaccuracy_linier = accuracy_score(y_test,y_pred_dtc)\n",
        "print(\"Accuracy: \", simpanaccuracy_linier)\n",
        "simpanf1score_linier = f1_score(y_test,y_pred_dtc)\n",
        "print(\"F1 Score: \", simpanf1score_linier)\n",
        "simpan_sensitivity_linier = recall_score(y_test,y_pred_dtc)\n",
        "print(\"Sensitivity: \", simpan_sensitivity_linier)\n",
        "print(classification_report(y_test,y_pred_dtc))\n",
        "\n",
        "\n",
        "plt.figure(figsize=(8,5))\n",
        "axis_labels = ['0', '1']\n",
        "g = sns.heatmap(data=cm, annot=True, cmap=\"Blues\", xticklabels=axis_labels, yticklabels=axis_labels, fmt='g', cbar_kws={\"shrink\": 0.5})\n",
        "p = plt.xlabel('Actual values')\n",
        "p = plt.ylabel('Predicted values')\n",
        "p = plt.title('--- Confusion Matrix for Decision Tree model ---')\n",
        "\n"
      ]
    },
    {
      "cell_type": "code",
      "execution_count": null,
      "metadata": {
        "id": "yw_926AUpY1b"
      },
      "outputs": [],
      "source": [
        "svc2 = SVC(kernel='rbf', C=5, probability=True)\n",
        "model2=svc2.fit(X_train, y_train)\n",
        "y_pred_dtc2=model2.predict(X_test)"
      ]
    },
    {
      "cell_type": "code",
      "execution_count": null,
      "metadata": {
        "id": "oKTtIkTypY1b",
        "outputId": "11c4b319-3eab-48cd-bc2a-11ffb73c7ba2"
      },
      "outputs": [
        {
          "name": "stdout",
          "output_type": "stream",
          "text": [
            "Confusion Matrix: \n",
            " [[1602  412]\n",
            " [ 353 1552]]\n",
            "Accuracy:  0.804797142128094\n",
            "F1 Score:  0.802274489532179\n",
            "Sensitivity:  0.8146981627296588\n",
            "              precision    recall  f1-score   support\n",
            "\n",
            "           0       0.82      0.80      0.81      2014\n",
            "           1       0.79      0.81      0.80      1905\n",
            "\n",
            "    accuracy                           0.80      3919\n",
            "   macro avg       0.80      0.81      0.80      3919\n",
            "weighted avg       0.81      0.80      0.80      3919\n",
            "\n"
          ]
        },
        {
          "data": {
            "image/png": "[encoded data removed]",
            "text/plain": [
              "<Figure size 576x360 with 2 Axes>"
            ]
          },
          "metadata": {
            "needs_background": "light"
          },
          "output_type": "display_data"
        }
      ],
      "source": [
        "\n",
        "cm = confusion_matrix(y_test,y_pred_dtc2)\n",
        "print(\"Confusion Matrix: \\n\", cm)\n",
        "simpanaccuracy_rbf = accuracy_score(y_test,y_pred_dtc2)\n",
        "print(\"Accuracy: \", simpanaccuracy_rbf)\n",
        "simpanf1score_rbf = f1_score(y_test,y_pred_dtc2)\n",
        "print(\"F1 Score: \", simpanf1score_rbf)\n",
        "simpan_sensitivity_rbf = recall_score(y_test,y_pred_dtc2)\n",
        "print(\"Sensitivity: \", simpan_sensitivity_rbf)\n",
        "print(classification_report(y_test,y_pred_dtc2))\n",
        "\n",
        "\n",
        "plt.figure(figsize=(8,5))\n",
        "axis_labels = ['0', '1']\n",
        "g = sns.heatmap(data=cm, annot=True, cmap=\"Blues\", xticklabels=axis_labels, yticklabels=axis_labels, fmt='g', cbar_kws={\"shrink\": 0.5})\n",
        "p = plt.xlabel('Actual values')\n",
        "p = plt.ylabel('Predicted values')\n",
        "p = plt.title('--- Confusion Matrix for Decision Tree model ---')\n",
        "\n",
        "\n",
        "\n",
        "\n"
      ]
    },
    {
      "cell_type": "code",
      "execution_count": null,
      "metadata": {
        "id": "D_f_mcHwpY1b",
        "outputId": "803e75cb-90d0-482e-9c25-228ea96c8948"
      },
      "outputs": [
        {
          "name": "stdout",
          "output_type": "stream",
          "text": [
            "Confusion Matrix: \n",
            " [[1819  195]\n",
            " [ 167 1738]]\n",
            "Accuracy:  0.907629497320745\n",
            "F1 Score:  0.9056800416883795\n",
            "Sensitivity:  0.9123359580052494\n",
            "              precision    recall  f1-score   support\n",
            "\n",
            "           0       0.92      0.90      0.91      2014\n",
            "           1       0.90      0.91      0.91      1905\n",
            "\n",
            "    accuracy                           0.91      3919\n",
            "   macro avg       0.91      0.91      0.91      3919\n",
            "weighted avg       0.91      0.91      0.91      3919\n",
            "\n"
          ]
        },
        {
          "data": {
            "image/png": "[encoded data removed]",
            "text/plain": [
              "<Figure size 576x360 with 2 Axes>"
            ]
          },
          "metadata": {
            "needs_background": "light"
          },
          "output_type": "display_data"
        }
      ],
      "source": [
        "#Gunakan random forest untuk memprediksi churn\n",
        "from sklearn.ensemble import RandomForestClassifier\n",
        "rfc = RandomForestClassifier(n_estimators=100, random_state=0)\n",
        "model4=rfc.fit(X_train, y_train)\n",
        "y_pred_dtc4=model4.predict(X_test)\n",
        "\n",
        "cm = confusion_matrix(y_test,y_pred_dtc4)\n",
        "print(\"Confusion Matrix: \\n\", cm)\n",
        "simpanaccuracy_rfc = accuracy_score(y_test,y_pred_dtc4)\n",
        "print(\"Accuracy: \", simpanaccuracy_rfc)\n",
        "simpanf1score_rfc = f1_score(y_test,y_pred_dtc4)\n",
        "print(\"F1 Score: \", simpanf1score_rfc)\n",
        "simpan_sensitivity_rfc = recall_score(y_test,y_pred_dtc4)\n",
        "print(\"Sensitivity: \", simpan_sensitivity_rfc)\n",
        "print(classification_report(y_test,y_pred_dtc4))\n",
        "\n",
        "\n",
        "plt.figure(figsize=(8,5))\n",
        "axis_labels = ['0', '1']\n",
        "g = sns.heatmap(data=cm, annot=True, cmap=\"Blues\", xticklabels=axis_labels, yticklabels=axis_labels, fmt='g', cbar_kws={\"shrink\": 0.5})\n",
        "p = plt.xlabel('Actual values')\n",
        "p = plt.ylabel('Predicted values')\n",
        "p = plt.title('--- Confusion Matrix for Decision Tree model ---')\n",
        "\n"
      ]
    },
    {
      "cell_type": "code",
      "execution_count": null,
      "metadata": {
        "id": "BPKLsEqdpY1j",
        "outputId": "5ea7d6b0-2e65-4ca9-c419-69b22c29adda"
      },
      "outputs": [
        {
          "data": {
            "text/plain": [
              "<AxesSubplot:title={'center':'--- Model Comparison ---'}, xlabel='Model'>"
            ]
          },
          "execution_count": 95,
          "metadata": {},
          "output_type": "execute_result"
        },
        {
          "data": {
            "image/png": "[encoded data removed]",
            "text/plain": [
              "<Figure size 720x360 with 1 Axes>"
            ]
          },
          "metadata": {
            "needs_background": "light"
          },
          "output_type": "display_data"
        }
      ],
      "source": [
        "#buat plot kekanan hasil accuracy, f1 score, sensitivity untuk masing masing model\n",
        "plot_data = [['Linear', simpanaccuracy_linier, simpanf1score_linier, simpan_sensitivity_linier], ['RBF', simpanaccuracy_rbf, simpanf1score_rbf, simpan_sensitivity_rbf]]\n",
        "\n",
        "plot_df = pd.DataFrame(plot_data, columns=['Model', 'Accuracy', 'F1 Score', 'Sensitivity'])\n",
        "\n",
        "plot_df.plot(x='Model', y=['Accuracy', 'F1 Score', 'Sensitivity'], kind='bar', figsize=(10, 5), title='--- Model Comparison ---')\n",
        "\n",
        "#['RFC', simpanaccuracy_rfc, simpanf1score_rfc, simpan_sensitivity_rfc]]"
      ]
    },
    {
      "cell_type": "code",
      "execution_count": null,
      "metadata": {
        "id": "BXNJTMwupY1k",
        "outputId": "af85c922-092b-4690-ad43-a249f95280d9"
      },
      "outputs": [
        {
          "data": {
            "text/plain": [
              "<AxesSubplot:title={'center':'--- Model Comparison ---'}, xlabel='Model'>"
            ]
          },
          "execution_count": 97,
          "metadata": {},
          "output_type": "execute_result"
        },
        {
          "data": {
            "image/png": "[encoded data removed]",
            "text/plain": [
              "<Figure size 720x360 with 1 Axes>"
            ]
          },
          "metadata": {
            "needs_background": "light"
          },
          "output_type": "display_data"
        }
      ],
      "source": [
        "#buat plot kekanan hasil accuracy, f1 score, sensitivity untuk masing masing model\n",
        "plot_data = [['RBF', simpanaccuracy_rbf, simpanf1score_rbf, simpan_sensitivity_rbf], ['RFC', simpanaccuracy_rfc, simpanf1score_rfc, simpan_sensitivity_rfc]]\n",
        "\n",
        "plot_df = pd.DataFrame(plot_data, columns=['Model', 'Accuracy', 'F1 Score', 'Sensitivity'])\n",
        "\n",
        "plot_df.plot(x='Model', y=['Accuracy', 'F1 Score', 'Sensitivity'], kind='bar', figsize=(10, 5), title='--- Model Comparison ---')\n",
        "\n",
        "#"
      ]
    },
    {
      "cell_type": "markdown",
      "metadata": {
        "id": "weutikVdpY1k"
      },
      "source": [
        "## **COBA Hyperparameter Tunning**"
      ]
    },
    {
      "cell_type": "code",
      "execution_count": null,
      "metadata": {
        "id": "4b49-GmTpY1k",
        "outputId": "77e1e907-7538-4793-f3cd-141c77a6093b"
      },
      "outputs": [
        {
          "name": "stdout",
          "output_type": "stream",
          "text": [
            "Fitting 5 folds for each of 9 candidates, totalling 45 fits\n",
            "[CV 1/5] END .........C=10, gamma=1, kernel=rbf;, score=0.815 total time=  18.9s\n",
            "[CV 2/5] END .........C=10, gamma=1, kernel=rbf;, score=0.818 total time=  19.9s\n",
            "[CV 3/5] END .........C=10, gamma=1, kernel=rbf;, score=0.808 total time=  16.0s\n",
            "[CV 4/5] END .........C=10, gamma=1, kernel=rbf;, score=0.797 total time=  14.2s\n",
            "[CV 5/5] END .........C=10, gamma=1, kernel=rbf;, score=0.818 total time=  15.1s\n",
            "[CV 1/5] END ......C=10, gamma=0.01, kernel=rbf;, score=0.695 total time=  17.8s\n",
            "[CV 2/5] END ......C=10, gamma=0.01, kernel=rbf;, score=0.713 total time=  18.0s\n",
            "[CV 3/5] END ......C=10, gamma=0.01, kernel=rbf;, score=0.712 total time=  17.3s\n",
            "[CV 4/5] END ......C=10, gamma=0.01, kernel=rbf;, score=0.711 total time=  17.7s\n",
            "[CV 5/5] END ......C=10, gamma=0.01, kernel=rbf;, score=0.727 total time=  17.5s\n",
            "[CV 1/5] END .....C=10, gamma=0.001, kernel=rbf;, score=0.667 total time=  20.0s\n",
            "[CV 2/5] END .....C=10, gamma=0.001, kernel=rbf;, score=0.686 total time=  20.0s\n",
            "[CV 3/5] END .....C=10, gamma=0.001, kernel=rbf;, score=0.684 total time=  20.0s\n",
            "[CV 4/5] END .....C=10, gamma=0.001, kernel=rbf;, score=0.674 total time=  19.2s\n",
            "[CV 5/5] END .....C=10, gamma=0.001, kernel=rbf;, score=0.693 total time=  19.7s\n",
            "[CV 1/5] END ........C=100, gamma=1, kernel=rbf;, score=0.842 total time=  24.3s\n",
            "[CV 2/5] END ........C=100, gamma=1, kernel=rbf;, score=0.846 total time=  23.4s\n",
            "[CV 3/5] END ........C=100, gamma=1, kernel=rbf;, score=0.832 total time=  23.5s\n",
            "[CV 4/5] END ........C=100, gamma=1, kernel=rbf;, score=0.835 total time= 4.4min\n",
            "[CV 5/5] END ........C=100, gamma=1, kernel=rbf;, score=0.843 total time=  28.8s\n",
            "[CV 1/5] END .....C=100, gamma=0.01, kernel=rbf;, score=0.730 total time=  17.7s\n",
            "[CV 2/5] END .....C=100, gamma=0.01, kernel=rbf;, score=0.738 total time=  20.9s\n",
            "[CV 3/5] END .....C=100, gamma=0.01, kernel=rbf;, score=0.732 total time=  19.1s\n",
            "[CV 4/5] END .....C=100, gamma=0.01, kernel=rbf;, score=0.729 total time=  18.1s\n",
            "[CV 5/5] END .....C=100, gamma=0.01, kernel=rbf;, score=0.755 total time=  19.3s\n",
            "[CV 1/5] END ....C=100, gamma=0.001, kernel=rbf;, score=0.690 total time=  26.0s\n",
            "[CV 2/5] END ....C=100, gamma=0.001, kernel=rbf;, score=0.709 total time=  24.0s\n",
            "[CV 3/5] END ....C=100, gamma=0.001, kernel=rbf;, score=0.707 total time=  26.9s\n",
            "[CV 4/5] END ....C=100, gamma=0.001, kernel=rbf;, score=0.707 total time=  26.3s\n",
            "[CV 5/5] END ....C=100, gamma=0.001, kernel=rbf;, score=0.722 total time=  19.5s\n",
            "[CV 1/5] END .......C=1000, gamma=1, kernel=rbf;, score=0.855 total time= 1.7min\n",
            "[CV 2/5] END .......C=1000, gamma=1, kernel=rbf;, score=0.866 total time= 1.6min\n",
            "[CV 3/5] END .......C=1000, gamma=1, kernel=rbf;, score=0.855 total time= 1.3min\n",
            "[CV 4/5] END .......C=1000, gamma=1, kernel=rbf;, score=0.854 total time= 1.4min\n",
            "[CV 5/5] END .......C=1000, gamma=1, kernel=rbf;, score=0.858 total time= 1.5min\n",
            "[CV 1/5] END ....C=1000, gamma=0.01, kernel=rbf;, score=0.771 total time=  31.6s\n",
            "[CV 2/5] END ....C=1000, gamma=0.01, kernel=rbf;, score=0.771 total time=  23.4s\n",
            "[CV 3/5] END ....C=1000, gamma=0.01, kernel=rbf;, score=0.759 total time=  24.6s\n",
            "[CV 4/5] END ....C=1000, gamma=0.01, kernel=rbf;, score=0.762 total time=  22.3s\n",
            "[CV 5/5] END ....C=1000, gamma=0.01, kernel=rbf;, score=0.784 total time=  20.8s\n",
            "[CV 1/5] END ...C=1000, gamma=0.001, kernel=rbf;, score=0.699 total time=  18.4s\n",
            "[CV 2/5] END ...C=1000, gamma=0.001, kernel=rbf;, score=0.715 total time=  20.4s\n",
            "[CV 3/5] END ...C=1000, gamma=0.001, kernel=rbf;, score=0.711 total time=  22.6s\n",
            "[CV 4/5] END ...C=1000, gamma=0.001, kernel=rbf;, score=0.713 total time=  20.4s\n",
            "[CV 5/5] END ...C=1000, gamma=0.001, kernel=rbf;, score=0.726 total time=  23.8s\n"
          ]
        }
      ],
      "source": [
        "from sklearn.model_selection import GridSearchCV\n",
        "\n",
        "# defining parameter range\n",
        "param_grid = {'C': [10, 100, 1000],\n",
        "              'gamma': [1, 0.01, 0.001],\n",
        "              'kernel': ['rbf']}\n",
        "\n",
        "grid = GridSearchCV(model2, param_grid, refit = True, verbose = 3)\n",
        "\n",
        "# fitting the model for grid search\n",
        "model3=grid.fit(X_train, y_train)"
      ]
    },
    {
      "cell_type": "code",
      "execution_count": null,
      "metadata": {
        "id": "zdWFULVUpY1k",
        "outputId": "2ee11b31-c786-4298-d519-ab29d1379b5c"
      },
      "outputs": [
        {
          "name": "stdout",
          "output_type": "stream",
          "text": [
            "{'C': 1000, 'gamma': 1, 'kernel': 'rbf'}\n",
            "SVC(C=1000, gamma=1, probability=True)\n",
            "0.8572522330923011\n"
          ]
        }
      ],
      "source": [
        "print(grid.best_params_)\n",
        "print(grid.best_estimator_)\n",
        "print(grid.best_score_)\n"
      ]
    },
    {
      "cell_type": "code",
      "execution_count": null,
      "metadata": {
        "id": "MWLZidqUpY1k",
        "outputId": "56ca4bbd-e2d9-475b-cc81-c8ce62b7161a"
      },
      "outputs": [
        {
          "name": "stdout",
          "output_type": "stream",
          "text": [
            "              precision    recall  f1-score   support\n",
            "\n",
            "           0       0.92      0.80      0.86      2014\n",
            "           1       0.81      0.92      0.87      1905\n",
            "\n",
            "    accuracy                           0.86      3919\n",
            "   macro avg       0.87      0.86      0.86      3919\n",
            "weighted avg       0.87      0.86      0.86      3919\n",
            "\n"
          ]
        }
      ],
      "source": [
        "model3=grid.best_estimator_\n",
        "y_pred_dtc3=model3.predict(X_test)\n",
        "\n",
        "# print classification report\n",
        "print(classification_report(y_test, y_pred_dtc3))"
      ]
    },
    {
      "cell_type": "code",
      "execution_count": null,
      "metadata": {
        "id": "4X7OVhAppY1k",
        "outputId": "0f74e6eb-f4d8-4614-a357-eef980acb264"
      },
      "outputs": [
        {
          "name": "stdout",
          "output_type": "stream",
          "text": [
            "Cross-validation scores: [0.85452999 0.86558911 0.85452999 0.85410464 0.85750744]\n"
          ]
        }
      ],
      "source": [
        "# cross validation model 3\n",
        "from sklearn.model_selection import cross_val_score\n",
        "scores = cross_val_score(model3, X_train, y_train, cv=5)\n",
        "print(\"Cross-validation scores: {}\".format(scores))\n"
      ]
    }
  ],
  "metadata": {
    "kernelspec": {
      "display_name": "Python 3 (ipykernel)",
      "language": "python",
      "name": "python3"
    },
    "language_info": {
      "codemirror_mode": {
        "name": "ipython",
        "version": 3
      },
      "file_extension": ".py",
      "mimetype": "text/x-python",
      "name": "python",
      "nbconvert_exporter": "python",
      "pygments_lexer": "ipython3",
      "version": "3.9.7"
    },
    "vscode": {
      "interpreter": {
        "hash": "ad2bdc8ecc057115af97d19610ffacc2b4e99fae6737bb82f5d7fb13d2f2c186"
      }
    },
    "colab": {
      "provenance": [],
      "include_colab_link": true
    }
  },
  "nbformat": 4,
  "nbformat_minor": 0
}